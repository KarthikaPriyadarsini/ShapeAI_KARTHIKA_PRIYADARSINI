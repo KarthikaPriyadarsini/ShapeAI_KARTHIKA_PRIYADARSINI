{
  "nbformat": 4,
  "nbformat_minor": 0,
  "metadata": {
    "colab": {
      "name": "KARTHIKA_PRIYADARSINI.ipynb",
      "provenance": []
    },
    "kernelspec": {
      "name": "python3",
      "display_name": "Python 3"
    },
    "language_info": {
      "name": "python"
    }
  },
  "cells": [
    {
      "cell_type": "code",
      "metadata": {
        "id": "uQx4DCXiauOO"
      },
      "source": [
        "#IMPORTING DATASET\n",
        "from keras.datasets import mnist\n",
        "data=mnist.load_data()"
      ],
      "execution_count": 23,
      "outputs": []
    },
    {
      "cell_type": "code",
      "metadata": {
        "id": "y4xGeeQ9csow"
      },
      "source": [
        "(X_train,y_train),(X_test,y_test)=data"
      ],
      "execution_count": 24,
      "outputs": []
    },
    {
      "cell_type": "code",
      "metadata": {
        "colab": {
          "base_uri": "https://localhost:8080/"
        },
        "id": "icfJUhEBeWOX",
        "outputId": "43cd7076-847f-42d8-e2c3-fb4dc0857f10"
      },
      "source": [
        "#SHAPE OF TRAINING DATA\n",
        "X_train[0].shape"
      ],
      "execution_count": 25,
      "outputs": [
        {
          "output_type": "execute_result",
          "data": {
            "text/plain": [
              "(28, 28)"
            ]
          },
          "metadata": {
            "tags": []
          },
          "execution_count": 25
        }
      ]
    },
    {
      "cell_type": "code",
      "metadata": {
        "colab": {
          "base_uri": "https://localhost:8080/"
        },
        "id": "w17bf0YCgerW",
        "outputId": "e08546f6-56dc-480d-e5f5-7c540a0b71e9"
      },
      "source": [
        "X_train.shape"
      ],
      "execution_count": 26,
      "outputs": [
        {
          "output_type": "execute_result",
          "data": {
            "text/plain": [
              "(60000, 28, 28)"
            ]
          },
          "metadata": {
            "tags": []
          },
          "execution_count": 26
        }
      ]
    },
    {
      "cell_type": "code",
      "metadata": {
        "id": "cpeLnE6wej-2"
      },
      "source": [
        "#RESHAPE THE TRAINING DATA\n",
        "X_train=X_train.reshape((X_train.shape[0],28*28)).astype('float32')\n",
        "X_test=X_test.reshape((X_test.shape[0],28*28)).astype('float32')"
      ],
      "execution_count": 27,
      "outputs": []
    },
    {
      "cell_type": "code",
      "metadata": {
        "id": "iNnG7JsMgmcI"
      },
      "source": [
        "#NORMALIZING VALUES FROM 0-255 TO 0-1\n",
        "X_train=X_train/255\n",
        "X_test=X_test/255"
      ],
      "execution_count": 28,
      "outputs": []
    },
    {
      "cell_type": "code",
      "metadata": {
        "colab": {
          "base_uri": "https://localhost:8080/"
        },
        "id": "bGLrF9zUhS6B",
        "outputId": "b9fb4c60-e350-4e9e-c493-e8dd8d0e7a5f"
      },
      "source": [
        "from keras.utils import np_utils\n",
        "\n",
        "print(y_test.shape)\n",
        "\n",
        "y_train=np_utils.to_categorical(y_train)\n",
        "y_test=np_utils.to_categorical(y_test)\n",
        "\n",
        "num_classes=y_test.shape[1]\n",
        "print(y_test.shape)"
      ],
      "execution_count": 29,
      "outputs": [
        {
          "output_type": "stream",
          "text": [
            "(10000,)\n",
            "(10000, 10)\n"
          ],
          "name": "stdout"
        }
      ]
    },
    {
      "cell_type": "code",
      "metadata": {
        "id": "7xXrdkK5jKEV"
      },
      "source": [
        "from keras.models import Sequential\n",
        "from keras.layers import Dense"
      ],
      "execution_count": 30,
      "outputs": []
    },
    {
      "cell_type": "code",
      "metadata": {
        "id": "rjketM4ZiGLj"
      },
      "source": [
        "#DEFINE MODEL\n",
        "model=Sequential()\n",
        "\n",
        "#ADD FIRST HIDDEN LAYER\n",
        "model.add(Dense(32,input_dim=28*28,activation='relu'))\n",
        "\n",
        "#ADD SECOND HIDDEN LAYER\n",
        "model.add(Dense(64,activation='relu'))\n",
        "\n",
        "#ADD OUTPUT LAYER HAVING 10 NEURONS(SINCE THERE ARE 10 CLASSES /CATEGORIES IN IT)\n",
        "model.add(Dense(10,activation='softmax'))"
      ],
      "execution_count": 19,
      "outputs": []
    },
    {
      "cell_type": "code",
      "metadata": {
        "id": "OoBBEftPnCTI"
      },
      "source": [
        "#COMPILE MODEL\n",
        "model.compile(loss='categorical_crossentropy',optimizer='adam',metrics=['accuracy'])"
      ],
      "execution_count": 31,
      "outputs": []
    },
    {
      "cell_type": "code",
      "metadata": {
        "colab": {
          "base_uri": "https://localhost:8080/"
        },
        "id": "T_D3lzr1nwZ4",
        "outputId": "f4125546-4884-48c5-cd92-63962e6fa96b"
      },
      "source": [
        "#PRINT MODEL SUMMARY\n",
        "model.summary()"
      ],
      "execution_count": 32,
      "outputs": [
        {
          "output_type": "stream",
          "text": [
            "Model: \"sequential\"\n",
            "_________________________________________________________________\n",
            "Layer (type)                 Output Shape              Param #   \n",
            "=================================================================\n",
            "dense (Dense)                (None, 32)                25120     \n",
            "_________________________________________________________________\n",
            "dense_1 (Dense)              (None, 64)                2112      \n",
            "_________________________________________________________________\n",
            "dense_2 (Dense)              (None, 10)                650       \n",
            "=================================================================\n",
            "Total params: 27,882\n",
            "Trainable params: 27,882\n",
            "Non-trainable params: 0\n",
            "_________________________________________________________________\n"
          ],
          "name": "stdout"
        }
      ]
    },
    {
      "cell_type": "code",
      "metadata": {
        "colab": {
          "base_uri": "https://localhost:8080/"
        },
        "id": "cSyK7g68onBU",
        "outputId": "8362f7d2-6ebe-4140-a139-551d5ef42f85"
      },
      "source": [
        "#TRAIN MODEL\n",
        "model.fit(X_train,y_train,validation_split=0.2,epochs=10,batch_size=100)"
      ],
      "execution_count": 33,
      "outputs": [
        {
          "output_type": "stream",
          "text": [
            "Epoch 1/10\n",
            "480/480 [==============================] - 2s 3ms/step - loss: 0.8644 - accuracy: 0.7450 - val_loss: 0.2361 - val_accuracy: 0.9345\n",
            "Epoch 2/10\n",
            "480/480 [==============================] - 1s 2ms/step - loss: 0.2352 - accuracy: 0.9305 - val_loss: 0.2017 - val_accuracy: 0.9428\n",
            "Epoch 3/10\n",
            "480/480 [==============================] - 1s 2ms/step - loss: 0.1797 - accuracy: 0.9466 - val_loss: 0.1691 - val_accuracy: 0.9521\n",
            "Epoch 4/10\n",
            "480/480 [==============================] - 1s 2ms/step - loss: 0.1535 - accuracy: 0.9548 - val_loss: 0.1445 - val_accuracy: 0.9589\n",
            "Epoch 5/10\n",
            "480/480 [==============================] - 1s 2ms/step - loss: 0.1258 - accuracy: 0.9636 - val_loss: 0.1344 - val_accuracy: 0.9608\n",
            "Epoch 6/10\n",
            "480/480 [==============================] - 1s 2ms/step - loss: 0.1118 - accuracy: 0.9682 - val_loss: 0.1257 - val_accuracy: 0.9643\n",
            "Epoch 7/10\n",
            "480/480 [==============================] - 1s 2ms/step - loss: 0.0980 - accuracy: 0.9709 - val_loss: 0.1228 - val_accuracy: 0.9646\n",
            "Epoch 8/10\n",
            "480/480 [==============================] - 1s 2ms/step - loss: 0.0837 - accuracy: 0.9754 - val_loss: 0.1121 - val_accuracy: 0.9670\n",
            "Epoch 9/10\n",
            "480/480 [==============================] - 1s 2ms/step - loss: 0.0736 - accuracy: 0.9783 - val_loss: 0.1246 - val_accuracy: 0.9638\n",
            "Epoch 10/10\n",
            "480/480 [==============================] - 1s 2ms/step - loss: 0.0681 - accuracy: 0.9797 - val_loss: 0.1090 - val_accuracy: 0.9682\n"
          ],
          "name": "stdout"
        },
        {
          "output_type": "execute_result",
          "data": {
            "text/plain": [
              "<tensorflow.python.keras.callbacks.History at 0x7fd53ad7dad0>"
            ]
          },
          "metadata": {
            "tags": []
          },
          "execution_count": 33
        }
      ]
    },
    {
      "cell_type": "code",
      "metadata": {
        "colab": {
          "base_uri": "https://localhost:8080/"
        },
        "id": "KfCvPXOOpOlg",
        "outputId": "582d96fc-4d42-461f-b187-86c63d81dc46"
      },
      "source": [
        "scores=model.evaluate(X_test,y_test)\n",
        "print(scores)#returns loss and accuracy"
      ],
      "execution_count": 34,
      "outputs": [
        {
          "output_type": "stream",
          "text": [
            "313/313 [==============================] - 1s 2ms/step - loss: 0.1080 - accuracy: 0.9694\n",
            "[0.10804078727960587, 0.9693999886512756]\n"
          ],
          "name": "stdout"
        }
      ]
    }
  ]
}